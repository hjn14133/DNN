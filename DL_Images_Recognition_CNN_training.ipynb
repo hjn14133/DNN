{
  "nbformat": 4,
  "nbformat_minor": 0,
  "metadata": {
    "colab": {
      "name": "DL_Images_Recognition_CNN_training.ipynb",
      "provenance": [],
      "authorship_tag": "ABX9TyPl7TcFfESDrc1elm79AtuB",
      "include_colab_link": true
    },
    "kernelspec": {
      "name": "python3",
      "display_name": "Python 3"
    },
    "language_info": {
      "name": "python"
    }
  },
  "cells": [
    {
      "cell_type": "markdown",
      "metadata": {
        "id": "view-in-github",
        "colab_type": "text"
      },
      "source": [
        "<a href=\"https://colab.research.google.com/github/hjn14133/DNN/blob/main/DL_Images_Recognition_CNN_training.ipynb\" target=\"_parent\"><img src=\"https://colab.research.google.com/assets/colab-badge.svg\" alt=\"Open In Colab\"/></a>"
      ]
    },
    {
      "cell_type": "code",
      "metadata": {
        "id": "SQVi-Q7unN9i"
      },
      "source": [
        "# explore dataset: check for obvious errors\n",
        "import keras"
      ],
      "execution_count": 1,
      "outputs": []
    },
    {
      "cell_type": "code",
      "metadata": {
        "id": "Mz5VCyYPvVO3"
      },
      "source": [
        "# CIFAR-10 dataset - 32 by 32 pixels with 2 color channels images (60,000)\n",
        "from keras.datasets import cifar10"
      ],
      "execution_count": 2,
      "outputs": []
    },
    {
      "cell_type": "code",
      "metadata": {
        "id": "4IXJzQlBxyo_"
      },
      "source": [
        "from keras.models import Sequential\n",
        "from keras.layers import Dense, Dropout, Flatten, Conv2D, MaxPooling2D\n",
        "from pathlib import Path"
      ],
      "execution_count": 3,
      "outputs": []
    },
    {
      "cell_type": "code",
      "metadata": {
        "colab": {
          "base_uri": "https://localhost:8080/"
        },
        "id": "irmhklBlyCXU",
        "outputId": "eef3c20f-f14f-4ef8-dc01-b82085cc6d23"
      },
      "source": [
        "# Load data set\n",
        "(x_train, y_train), (x_test, y_test) = cifar10.load_data()"
      ],
      "execution_count": 6,
      "outputs": [
        {
          "output_type": "stream",
          "name": "stdout",
          "text": [
            "Downloading data from https://www.cs.toronto.edu/~kriz/cifar-10-python.tar.gz\n",
            "170500096/170498071 [==============================] - 4s 0us/step\n",
            "170508288/170498071 [==============================] - 4s 0us/step\n"
          ]
        }
      ]
    },
    {
      "cell_type": "code",
      "metadata": {
        "id": "bt6Txa_myW3m"
      },
      "source": [
        "# Normalize data set to 0-to-1 range\n",
        "x_train = x_train.astype(\"float32\")\n",
        "x_test = x_test.astype(\"float32\")\n",
        "\n",
        "x_train = x_train / 255\n",
        "x_test = x_test / 255"
      ],
      "execution_count": 7,
      "outputs": []
    },
    {
      "cell_type": "code",
      "metadata": {
        "id": "SM9UkS3Gz7mn"
      },
      "source": [
        "from tensorflow.keras.utils import to_categorical"
      ],
      "execution_count": 13,
      "outputs": []
    },
    {
      "cell_type": "code",
      "metadata": {
        "id": "9Qb6VwCry3CJ"
      },
      "source": [
        "# convert class vectors to binary class matrices\n",
        "y_train = to_categorical(y_train, 10)\n",
        "y_test = to_categorical(y_test, 10)"
      ],
      "execution_count": 14,
      "outputs": []
    },
    {
      "cell_type": "code",
      "metadata": {
        "id": "6Q5tiB8a0fyR"
      },
      "source": [
        "# create a model and add layers \n",
        "model = Sequential()\n",
        "\n",
        "# Add 4 CONVOLUTIONAL LAYERS with input layer - 32 by 32 pixels with 2 color channels image\n",
        "# (filer number, window size, (padding for pixels on the edges), activation)\n",
        "# 2D for images, 1D for sound waves \n",
        "model.add(Conv2D(32, (3,3), padding=\"same\", activation=\"relu\", input_shape=(32, 32, 3)))\n",
        "model.add(Conv2D(32, (3,3), activation=\"relu\"))\n",
        "# Add a MaxPooling layer to imporve the efficiency\n",
        "model.add(MaxPooling2D(pool_size = (2, 2)))\n",
        "# Add a Dropout layer to throw away some data by cutting some connections between layers \n",
        "# 25% to 50%\n",
        "model.add(Dropout(0.25))\n",
        "\n",
        "model.add(Conv2D(64, (3,3), padding=\"same\", activation=\"relu\"))\n",
        "model.add(Conv2D(64, (3,3), activation=\"relu\"))\n",
        "# Add another MaxPooling layer to imporve the efficiency\n",
        "model.add(MaxPooling2D(pool_size = (2, 2)))\n",
        "# Add another Dropout layer to throw away some data by cutting some connections between layers \n",
        "# 25% to 50%\n",
        "model.add(Dropout(0.25))\n",
        "\n",
        "# create a Flatten layer to transition convolutional layers (2D) to dense layer (1D)\n",
        "model.add(Flatten())\n",
        "\n",
        "# create a Dense layer \n",
        "model.add(Dense(512, activation=\"relu\"))\n",
        "# Add another Dropout layer to throw away some data by cutting some connections between layers \n",
        "# 25% to 50%\n",
        "model.add(Dropout(0.5))\n",
        "\n",
        "# create output layer - 10 different categories\n",
        "model.add(Dense(10, activation=\"softmax\"))"
      ],
      "execution_count": 21,
      "outputs": []
    },
    {
      "cell_type": "code",
      "metadata": {
        "id": "dYIC85w16bix"
      },
      "source": [
        "# Compile the model\n",
        "model.compile(optimizer=\"adam\", \n",
        "              loss=\"categorical_crossentropy\",\n",
        "              metrics = [\"accuracy\"])"
      ],
      "execution_count": 25,
      "outputs": []
    },
    {
      "cell_type": "code",
      "metadata": {
        "colab": {
          "base_uri": "https://localhost:8080/"
        },
        "id": "fNzKz8g_7EIU",
        "outputId": "77be4cb6-ef38-4284-ea52-2acff1096039"
      },
      "source": [
        "# Train the model\n",
        "# batch_size: (32, 128)\n",
        "# shuffle - randomize the order of the data\n",
        "# loss should go down while accuracy goes up\n",
        "model.fit(x_train, \n",
        "          y_train, \n",
        "          batch_size=32,\n",
        "          epochs = 30,\n",
        "          validation_data = (x_test, y_test),\n",
        "          shuffle = True)"
      ],
      "execution_count": null,
      "outputs": [
        {
          "output_type": "stream",
          "name": "stdout",
          "text": [
            "Epoch 1/30\n",
            "1563/1563 [==============================] - 217s 138ms/step - loss: 1.5192 - accuracy: 0.4407 - val_loss: 1.2280 - val_accuracy: 0.5668\n",
            "Epoch 2/30\n",
            "1563/1563 [==============================] - 216s 138ms/step - loss: 1.1412 - accuracy: 0.5949 - val_loss: 1.0032 - val_accuracy: 0.6415\n",
            "Epoch 3/30\n",
            " 939/1563 [=================>............] - ETA: 1:22 - loss: 0.9956 - accuracy: 0.6494"
          ]
        }
      ]
    },
    {
      "cell_type": "code",
      "metadata": {
        "id": "d0_Af2Hg1tHc"
      },
      "source": [
        "# Save neural network structure\n",
        "model_structure = model.to_json()\n",
        "f = Path(\"CNN_model_structure.json\")\n",
        "f.write_text(model_structure)\n",
        "\n",
        "# Save neural network's trained weights\n",
        "model.sample_weights(\"CNN_model_weights.h5\")\n"
      ],
      "execution_count": null,
      "outputs": []
    }
  ]
}