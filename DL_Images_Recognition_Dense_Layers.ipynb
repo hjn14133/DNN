{
  "nbformat": 4,
  "nbformat_minor": 0,
  "metadata": {
    "colab": {
      "name": "DL_Images_Recognition_Dense_Layers.ipynb",
      "provenance": [],
      "authorship_tag": "ABX9TyNn3OlQhOMdyJarx5MMaYAQ",
      "include_colab_link": true
    },
    "kernelspec": {
      "name": "python3",
      "display_name": "Python 3"
    },
    "language_info": {
      "name": "python"
    }
  },
  "cells": [
    {
      "cell_type": "markdown",
      "metadata": {
        "id": "view-in-github",
        "colab_type": "text"
      },
      "source": [
        "<a href=\"https://colab.research.google.com/github/hjn14133/DNN/blob/main/DL_Images_Recognition_Dense_Layers.ipynb\" target=\"_parent\"><img src=\"https://colab.research.google.com/assets/colab-badge.svg\" alt=\"Open In Colab\"/></a>"
      ]
    },
    {
      "cell_type": "code",
      "metadata": {
        "id": "SQVi-Q7unN9i"
      },
      "source": [
        "# explore dataset: check for obvious errors\n",
        "import keras"
      ],
      "execution_count": 1,
      "outputs": []
    },
    {
      "cell_type": "code",
      "metadata": {
        "id": "Mz5VCyYPvVO3"
      },
      "source": [
        "# CIFAR-10 dataset - 32 by 32 pixels with 2 color channels images (60,000)\n",
        "from keras.datasets import cifar10"
      ],
      "execution_count": 2,
      "outputs": []
    },
    {
      "cell_type": "code",
      "metadata": {
        "id": "4IXJzQlBxyo_"
      },
      "source": [
        "from keras.models import Sequential\n",
        "from keras.layers import Dense, Dropout, Flatten, Conv2D, MaxPooling2D\n",
        "from pathlib import Path"
      ],
      "execution_count": 3,
      "outputs": []
    },
    {
      "cell_type": "code",
      "metadata": {
        "colab": {
          "base_uri": "https://localhost:8080/"
        },
        "id": "irmhklBlyCXU",
        "outputId": "eef3c20f-f14f-4ef8-dc01-b82085cc6d23"
      },
      "source": [
        "# Load data set\n",
        "(x_train, y_train), (x_test, y_test) = cifar10.load_data()"
      ],
      "execution_count": 6,
      "outputs": [
        {
          "output_type": "stream",
          "name": "stdout",
          "text": [
            "Downloading data from https://www.cs.toronto.edu/~kriz/cifar-10-python.tar.gz\n",
            "170500096/170498071 [==============================] - 4s 0us/step\n",
            "170508288/170498071 [==============================] - 4s 0us/step\n"
          ]
        }
      ]
    },
    {
      "cell_type": "code",
      "metadata": {
        "id": "bt6Txa_myW3m"
      },
      "source": [
        "# Normalize data set to 0-to-1 range\n",
        "x_train = x_train.astype(\"float32\")\n",
        "x_test = x_test.astype(\"float32\")\n",
        "\n",
        "x_train = x_train / 255\n",
        "x_test = x_test / 255"
      ],
      "execution_count": 7,
      "outputs": []
    },
    {
      "cell_type": "code",
      "metadata": {
        "id": "SM9UkS3Gz7mn"
      },
      "source": [
        "from tensorflow.keras.utils import to_categorical"
      ],
      "execution_count": 13,
      "outputs": []
    },
    {
      "cell_type": "code",
      "metadata": {
        "id": "9Qb6VwCry3CJ"
      },
      "source": [
        "# convert class vectors to binary class matrices\n",
        "y_train = to_categorical(y_train, 10)\n",
        "y_test = to_categorical(y_test, 10)"
      ],
      "execution_count": 14,
      "outputs": []
    },
    {
      "cell_type": "code",
      "metadata": {
        "id": "6Q5tiB8a0fyR"
      },
      "source": [
        "# create a model and add layers \n",
        "model = Sequential()\n",
        "\n",
        "# create first layer with input layer - 32 by 32 pixels with 2 color channels image\n",
        "model.add(Dense(512, activation=\"relu\", input_shape=(32, 32, 3)))\n",
        "\n",
        "# create output layer - 10 different categories\n",
        "model.add(Dense(10, activation=\"softmax\"))"
      ],
      "execution_count": 15,
      "outputs": []
    },
    {
      "cell_type": "code",
      "metadata": {
        "colab": {
          "base_uri": "https://localhost:8080/"
        },
        "id": "d0_Af2Hg1tHc",
        "outputId": "2857c370-f23e-41fd-909b-012d9189701d"
      },
      "source": [
        "# Print a summary of the model\n",
        "model.summary()"
      ],
      "execution_count": 16,
      "outputs": [
        {
          "output_type": "stream",
          "name": "stdout",
          "text": [
            "Model: \"sequential\"\n",
            "_________________________________________________________________\n",
            "Layer (type)                 Output Shape              Param #   \n",
            "=================================================================\n",
            "dense (Dense)                (None, 32, 32, 512)       2048      \n",
            "_________________________________________________________________\n",
            "dense_1 (Dense)              (None, 32, 32, 10)        5130      \n",
            "=================================================================\n",
            "Total params: 7,178\n",
            "Trainable params: 7,178\n",
            "Non-trainable params: 0\n",
            "_________________________________________________________________\n"
          ]
        }
      ]
    }
  ]
}