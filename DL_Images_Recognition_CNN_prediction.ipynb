{
  "nbformat": 4,
  "nbformat_minor": 0,
  "metadata": {
    "colab": {
      "name": "DL_Images_Recognition_CNN_prediction.ipynb",
      "provenance": [],
      "authorship_tag": "ABX9TyNz2iCFoTbKeUQs4ishod8d",
      "include_colab_link": true
    },
    "kernelspec": {
      "name": "python3",
      "display_name": "Python 3"
    },
    "language_info": {
      "name": "python"
    }
  },
  "cells": [
    {
      "cell_type": "markdown",
      "metadata": {
        "id": "view-in-github",
        "colab_type": "text"
      },
      "source": [
        "<a href=\"https://colab.research.google.com/github/hjn14133/DNN/blob/main/DL_Images_Recognition_CNN_prediction.ipynb\" target=\"_parent\"><img src=\"https://colab.research.google.com/assets/colab-badge.svg\" alt=\"Open In Colab\"/></a>"
      ]
    },
    {
      "cell_type": "code",
      "metadata": {
        "id": "RZsHb199ZWkL"
      },
      "source": [
        "from keras.models import model_from_json\n",
        "from pathlib import Path\n",
        "from keras.preprocessing import image\n",
        "import numpy as np"
      ],
      "execution_count": 2,
      "outputs": []
    },
    {
      "cell_type": "code",
      "metadata": {
        "id": "SJL7r2D7Zp6q"
      },
      "source": [
        "# These are the CIFAR10 class labels from the training data (in order from 0 to 9)\n",
        "class_labels = [\n",
        "                \"Plane\",\n",
        "                \"Car\",\n",
        "                \"Bird\",\n",
        "                \"Cat\",\n",
        "                \"Deer\",\n",
        "                \"Dog\",\n",
        "                \"Frog\",\n",
        "                \"Horse\",\n",
        "                \"Boat\",\n",
        "                \"Truck\"\n",
        "]"
      ],
      "execution_count": 3,
      "outputs": []
    },
    {
      "cell_type": "code",
      "metadata": {
        "id": "KWcB2nvUaI7A"
      },
      "source": [
        "# Load the json file that contains the model's structure\n",
        "f = Path(\"CNN_model_structure.json\")\n",
        "CNN_model_structure = f.read_text()"
      ],
      "execution_count": 5,
      "outputs": []
    },
    {
      "cell_type": "code",
      "metadata": {
        "id": "sndjD1qBa4cI"
      },
      "source": [
        "# Recreate the Keras model object from the json data\n",
        "model = model_from_json(CNN_model_structure)"
      ],
      "execution_count": 6,
      "outputs": []
    },
    {
      "cell_type": "code",
      "metadata": {
        "id": "kWG7mwudbH6s"
      },
      "source": [
        "# Re-load the model's trained weights\n",
        "model.load_weights(\"CNN_model_weights.h5\")"
      ],
      "execution_count": 7,
      "outputs": []
    },
    {
      "cell_type": "code",
      "metadata": {
        "id": "wgxd3PFPbj7C"
      },
      "source": [
        "# Load an image (Cat) to test, resizing it to 32 by 32 pixels \n",
        "# as required by this model)\n",
        "img = image.load_img(\"cat.png\", target_size=(32, 32))"
      ],
      "execution_count": 9,
      "outputs": []
    },
    {
      "cell_type": "code",
      "metadata": {
        "id": "RjWxUKPob6Y2"
      },
      "source": [
        "# Covert the image to numpy array and Normalize it\n",
        "image_to_test = image.img_to_array(img) / 255"
      ],
      "execution_count": 10,
      "outputs": []
    },
    {
      "cell_type": "code",
      "metadata": {
        "id": "DZdUsodicYDW"
      },
      "source": [
        "# Since Keras expects a list of images, not a single image\n",
        "# Add a fouth dimension to the image\n",
        "list_of_images = np.expand_dims(image_to_test, axis= 0)"
      ],
      "execution_count": 11,
      "outputs": []
    },
    {
      "cell_type": "code",
      "metadata": {
        "id": "P61pbD4kcskR"
      },
      "source": [
        "# Make a prediction using this CNN model\n",
        "results = model.predict(list_of_images)"
      ],
      "execution_count": 12,
      "outputs": []
    },
    {
      "cell_type": "code",
      "metadata": {
        "colab": {
          "base_uri": "https://localhost:8080/"
        },
        "id": "TbZViEHvc-DI",
        "outputId": "3e6a3cfd-4808-475f-9d68-dd9d33a46217"
      },
      "source": [
        "# Since we are only testing one image, we only need to check the first result\n",
        "single_result = results[0]\n",
        "# We will get a likelihood score for all 10 possible classes\n",
        "print(single_result)"
      ],
      "execution_count": 14,
      "outputs": [
        {
          "output_type": "stream",
          "name": "stdout",
          "text": [
            "[5.27292821e-10 5.33386432e-13 6.80301071e-07 9.99747217e-01\n",
            " 1.15878755e-07 2.47872027e-04 3.98180237e-06 6.07142496e-08\n",
            " 1.65930797e-10 7.73657397e-14]\n"
          ]
        }
      ]
    },
    {
      "cell_type": "code",
      "metadata": {
        "colab": {
          "base_uri": "https://localhost:8080/"
        },
        "id": "09FpBYuVdJ1d",
        "outputId": "3a28090f-cda1-4d18-c0c1-3aa09e52825b"
      },
      "source": [
        "# Find out which class had the highest score\n",
        "most_likely_class_index = int(np.argmax(single_result))\n",
        "class_likelihood = single_result[most_likely_class_index]\n",
        "\n",
        "# Get the name of the most likely class\n",
        "class_label = class_labels[most_likely_class_index]\n",
        "\n",
        "# Print the result\n",
        "print(\"This is image is a {} - Likelihood: {:2f}\".format(class_label, class_likelihood))"
      ],
      "execution_count": 16,
      "outputs": [
        {
          "output_type": "stream",
          "name": "stdout",
          "text": [
            "This is image is a Cat - Likelihood: 0.999747\n"
          ]
        }
      ]
    }
  ]
}